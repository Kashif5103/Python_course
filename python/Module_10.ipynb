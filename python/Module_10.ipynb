{
 "cells": [
  {
   "cell_type": "code",
   "execution_count": 2,
   "id": "a64e51df",
   "metadata": {},
   "outputs": [
    {
     "name": "stdout",
     "output_type": "stream",
     "text": [
      "{'fig', 'Apple', 'mango'}\n"
     ]
    }
   ],
   "source": [
    "set1={'Apple','fig','mango'}\n",
    "print(set1)"
   ]
  },
  {
   "cell_type": "code",
   "execution_count": 3,
   "id": "b12cb021",
   "metadata": {},
   "outputs": [
    {
     "data": {
      "text/plain": [
       "set"
      ]
     },
     "execution_count": 3,
     "metadata": {},
     "output_type": "execute_result"
    }
   ],
   "source": [
    "type(set1)"
   ]
  },
  {
   "cell_type": "code",
   "execution_count": 4,
   "id": "fb4356ca",
   "metadata": {},
   "outputs": [
    {
     "data": {
      "text/plain": [
       "3"
      ]
     },
     "execution_count": 4,
     "metadata": {},
     "output_type": "execute_result"
    }
   ],
   "source": [
    "len(set1)"
   ]
  },
  {
   "cell_type": "code",
   "execution_count": 5,
   "id": "c7c14ddd",
   "metadata": {},
   "outputs": [
    {
     "name": "stdout",
     "output_type": "stream",
     "text": [
      "{'orange', 'Apple', 'banana'}\n",
      "{65, 1, 3, 4, 6, 7}\n",
      "{False, True}\n"
     ]
    }
   ],
   "source": [
    "set2={'banana','Apple','orange'}\n",
    "set3={1,3,4,65,6,7,6}\n",
    "set4={False,True,False}\n",
    "\n",
    "print(set2)\n",
    "print(set3)\n",
    "print(set4)"
   ]
  },
  {
   "cell_type": "code",
   "execution_count": 6,
   "id": "abe0bd42",
   "metadata": {},
   "outputs": [
    {
     "name": "stdout",
     "output_type": "stream",
     "text": [
      "{True, 2, 3.4, 4, 'python'}\n"
     ]
    }
   ],
   "source": [
    "mixset={True,'python',2,4,3.4}\n",
    "print(mixset)"
   ]
  },
  {
   "cell_type": "code",
   "execution_count": 7,
   "id": "6ae3c6e8",
   "metadata": {},
   "outputs": [],
   "source": [
    "# we create a set with another way\n",
    "fruit=set(('Banana','Apple','Fig'))"
   ]
  },
  {
   "cell_type": "code",
   "execution_count": 8,
   "id": "6b563225",
   "metadata": {},
   "outputs": [
    {
     "data": {
      "text/plain": [
       "{'Apple', 'Banana', 'Fig'}"
      ]
     },
     "execution_count": 8,
     "metadata": {},
     "output_type": "execute_result"
    }
   ],
   "source": [
    "fruit # we can't access the specifie value"
   ]
  },
  {
   "cell_type": "code",
   "execution_count": 9,
   "id": "776bfa49",
   "metadata": {},
   "outputs": [
    {
     "name": "stdout",
     "output_type": "stream",
     "text": [
      "Apple\n",
      "Banana\n",
      "Fig\n"
     ]
    }
   ],
   "source": [
    "for x in fruit:\n",
    "    print(x)"
   ]
  },
  {
   "cell_type": "code",
   "execution_count": 10,
   "id": "949432b5",
   "metadata": {},
   "outputs": [
    {
     "name": "stdout",
     "output_type": "stream",
     "text": [
      "True\n"
     ]
    }
   ],
   "source": [
    "print('Apple' in fruit)"
   ]
  },
  {
   "cell_type": "code",
   "execution_count": 11,
   "id": "4fd9c9d2",
   "metadata": {},
   "outputs": [
    {
     "name": "stdout",
     "output_type": "stream",
     "text": [
      "{'orange', 'Apple', 'Banana', 'Fig'}\n"
     ]
    }
   ],
   "source": [
    "# we Add items in sets\n",
    "fruit.add('orange')\n",
    "print(fruit)"
   ]
  },
  {
   "cell_type": "code",
   "execution_count": 12,
   "id": "c05dbf99",
   "metadata": {},
   "outputs": [
    {
     "name": "stdout",
     "output_type": "stream",
     "text": [
      "{'Banana', 'lemon', 'cherry', 'orange', 'Apple', 'Fig'}\n"
     ]
    }
   ],
   "source": [
    "fruit.update(['lemon','cherry'])\n",
    "print(fruit)"
   ]
  },
  {
   "cell_type": "code",
   "execution_count": 14,
   "id": "a86a0207",
   "metadata": {},
   "outputs": [
    {
     "name": "stdout",
     "output_type": "stream",
     "text": [
      "{'Banana', 'cherry', 'orange', 'Apple', 'Fig'}\n"
     ]
    }
   ],
   "source": [
    "# remove item from the set\n",
    "fruit.remove('lemon')\n",
    "print(fruit)"
   ]
  },
  {
   "cell_type": "code",
   "execution_count": 17,
   "id": "5c7ea757",
   "metadata": {},
   "outputs": [
    {
     "name": "stdout",
     "output_type": "stream",
     "text": [
      "{'Banana', 'orange', 'Apple', 'Fig'}\n"
     ]
    }
   ],
   "source": [
    "# discard method not show error if remove itemm not exists \n",
    "fruit.discard('cherry')\n",
    "print(fruit)"
   ]
  },
  {
   "cell_type": "code",
   "execution_count": 19,
   "id": "47efb609",
   "metadata": {},
   "outputs": [
    {
     "name": "stdout",
     "output_type": "stream",
     "text": [
      "orange\n",
      "{'Apple', 'Fig'}\n"
     ]
    }
   ],
   "source": [
    "x=fruit.pop()\n",
    "print(x)\n",
    "\n",
    "print(fruit)"
   ]
  },
  {
   "cell_type": "code",
   "execution_count": 20,
   "id": "4d3ba480",
   "metadata": {},
   "outputs": [],
   "source": [
    "fruit.clear()"
   ]
  },
  {
   "cell_type": "code",
   "execution_count": 21,
   "id": "4007c9c9",
   "metadata": {},
   "outputs": [],
   "source": [
    "# Also we use the Del function to remove the set\n",
    "del fruit"
   ]
  },
  {
   "cell_type": "code",
   "execution_count": 22,
   "id": "2a2a1d5f",
   "metadata": {},
   "outputs": [
    {
     "ename": "NameError",
     "evalue": "name 'fruit' is not defined",
     "output_type": "error",
     "traceback": [
      "\u001b[1;31m---------------------------------------------------------------------------\u001b[0m",
      "\u001b[1;31mNameError\u001b[0m                                 Traceback (most recent call last)",
      "Cell \u001b[1;32mIn[22], line 1\u001b[0m\n\u001b[1;32m----> 1\u001b[0m fruit\n",
      "\u001b[1;31mNameError\u001b[0m: name 'fruit' is not defined"
     ]
    }
   ],
   "source": [
    "fruit"
   ]
  },
  {
   "cell_type": "code",
   "execution_count": 23,
   "id": "1eaa0d05",
   "metadata": {},
   "outputs": [
    {
     "name": "stdout",
     "output_type": "stream",
     "text": [
      "{'Black', 'Yellow'}\n"
     ]
    }
   ],
   "source": [
    "set1 = {\"Yellow\", \"Orange\", \"Black\"}\n",
    "set2 = {\"Orange\", \"Blue\", \"Pink\"}\n",
    " \n",
    "set1.difference_update(set2)\n",
    "print(set1)"
   ]
  },
  {
   "cell_type": "code",
   "execution_count": 24,
   "id": "78f0f11f",
   "metadata": {},
   "outputs": [
    {
     "name": "stdout",
     "output_type": "stream",
     "text": [
      "{40, 10, 50, 20, '10', 60, 30}\n"
     ]
    }
   ],
   "source": [
    "set1 = {10, 20, 30, 40}\n",
    "set2 = {50, 20, \"10\", 60}\n",
    " \n",
    "set3 = set1.union(set2)\n",
    "print(set3)"
   ]
  },
  {
   "cell_type": "code",
   "execution_count": null,
   "id": "d1232898",
   "metadata": {},
   "outputs": [],
   "source": []
  }
 ],
 "metadata": {
  "kernelspec": {
   "display_name": "Python 3 (ipykernel)",
   "language": "python",
   "name": "python3"
  },
  "language_info": {
   "codemirror_mode": {
    "name": "ipython",
    "version": 3
   },
   "file_extension": ".py",
   "mimetype": "text/x-python",
   "name": "python",
   "nbconvert_exporter": "python",
   "pygments_lexer": "ipython3",
   "version": "3.11.4"
  }
 },
 "nbformat": 4,
 "nbformat_minor": 5
}
