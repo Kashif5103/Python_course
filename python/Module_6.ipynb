{
 "cells": [
  {
   "cell_type": "markdown",
   "id": "efe4a042",
   "metadata": {},
   "source": [
    "# Conditional Statement in Python"
   ]
  },
  {
   "cell_type": "code",
   "execution_count": 1,
   "id": "d0ace96a",
   "metadata": {},
   "outputs": [
    {
     "name": "stdout",
     "output_type": "stream",
     "text": [
      "10  Number is Positive\n"
     ]
    }
   ],
   "source": [
    "no=10\n",
    "if no>0:\n",
    "    print(no ,' Number is Positive')\n",
    "if no<0:\n",
    "    print(no, 'numbsr is negative')"
   ]
  },
  {
   "cell_type": "code",
   "execution_count": 6,
   "id": "1536bf6f",
   "metadata": {},
   "outputs": [
    {
     "name": "stdout",
     "output_type": "stream",
     "text": [
      "-10 numbsr is negative\n"
     ]
    }
   ],
   "source": [
    "no=-10\n",
    "if no>0:\n",
    "    print(no ,' Number is Positive')\n",
    "else:\n",
    "    print(no, 'numbsr is negative')"
   ]
  },
  {
   "cell_type": "code",
   "execution_count": 9,
   "id": "51f7d77b",
   "metadata": {},
   "outputs": [
    {
     "name": "stdout",
     "output_type": "stream",
     "text": [
      "0 numbsr is zero\n"
     ]
    }
   ],
   "source": [
    "no=0\n",
    "if no>0:\n",
    "    print(no ,' Number is Positive')\n",
    "elif no==0:\n",
    "    print(no, 'numbsr is zero')\n",
    "else:\n",
    "    print(no, 'numbsr is negative')"
   ]
  },
  {
   "cell_type": "code",
   "execution_count": null,
   "id": "ffd35639",
   "metadata": {},
   "outputs": [],
   "source": []
  }
 ],
 "metadata": {
  "kernelspec": {
   "display_name": "Python 3 (ipykernel)",
   "language": "python",
   "name": "python3"
  },
  "language_info": {
   "codemirror_mode": {
    "name": "ipython",
    "version": 3
   },
   "file_extension": ".py",
   "mimetype": "text/x-python",
   "name": "python",
   "nbconvert_exporter": "python",
   "pygments_lexer": "ipython3",
   "version": "3.11.4"
  }
 },
 "nbformat": 4,
 "nbformat_minor": 5
}
