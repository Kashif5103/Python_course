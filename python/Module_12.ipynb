{
 "cells": [
  {
   "cell_type": "code",
   "execution_count": 1,
   "id": "9fafc842",
   "metadata": {},
   "outputs": [],
   "source": [
    "def fun():\n",
    "    print('Hi This is Funtion')"
   ]
  },
  {
   "cell_type": "code",
   "execution_count": 2,
   "id": "50593927",
   "metadata": {},
   "outputs": [
    {
     "name": "stdout",
     "output_type": "stream",
     "text": [
      "Hi This is Funtion\n"
     ]
    }
   ],
   "source": [
    "# Calll the Function \n",
    "fun()"
   ]
  },
  {
   "cell_type": "code",
   "execution_count": 3,
   "id": "12759a4e",
   "metadata": {},
   "outputs": [
    {
     "name": "stdout",
     "output_type": "stream",
     "text": [
      "Hi  Kashif\n"
     ]
    }
   ],
   "source": [
    "def Hi_fun(name):\n",
    "    print('Hi '+name)\n",
    "Hi_fun('Kashif')"
   ]
  },
  {
   "cell_type": "code",
   "execution_count": 4,
   "id": "f726796c",
   "metadata": {},
   "outputs": [
    {
     "name": "stdout",
     "output_type": "stream",
     "text": [
      "Hi  Asad\n"
     ]
    }
   ],
   "source": [
    "Hi_fun('Asad')"
   ]
  },
  {
   "cell_type": "code",
   "execution_count": 5,
   "id": "0a1a2c9e",
   "metadata": {},
   "outputs": [
    {
     "name": "stdout",
     "output_type": "stream",
     "text": [
      "Hi  Bilal\n"
     ]
    }
   ],
   "source": [
    "def Hi_fun(name='Bilal'):\n",
    "    print('Hi '+name)\n",
    "Hi_fun()"
   ]
  },
  {
   "cell_type": "code",
   "execution_count": 6,
   "id": "3337400e",
   "metadata": {},
   "outputs": [
    {
     "name": "stdout",
     "output_type": "stream",
     "text": [
      "Apple\n",
      "Banana\n",
      "watermelon\n"
     ]
    }
   ],
   "source": [
    "# inserting a list in Python\n",
    "\n",
    "def fruit(name):\n",
    "    for i in name:\n",
    "        print(i)\n",
    "        \n",
    "list=['Apple','Banana','watermelon']\n",
    "fruit(list)"
   ]
  },
  {
   "cell_type": "markdown",
   "id": "a8c2b995",
   "metadata": {},
   "source": [
    "#  Return and Express"
   ]
  },
  {
   "cell_type": "code",
   "execution_count": 7,
   "id": "c0547c8b",
   "metadata": {},
   "outputs": [
    {
     "name": "stdout",
     "output_type": "stream",
     "text": [
      "45\n"
     ]
    }
   ],
   "source": [
    "def deg(x):\n",
    "    return 15*x\n",
    "\n",
    "print(deg(3))"
   ]
  },
  {
   "cell_type": "code",
   "execution_count": 8,
   "id": "ec2ed32b",
   "metadata": {},
   "outputs": [
    {
     "name": "stdout",
     "output_type": "stream",
     "text": [
      "the first name is kashif\n",
      "the second name is Ahtisham\n",
      "the third name is Bilal\n",
      "None\n"
     ]
    }
   ],
   "source": [
    "def player(name1,name2,name3):\n",
    "    print(\"the first name is \"+name1)\n",
    "    print('the second name is '+name2)\n",
    "    print('the third name is '+name3)\n",
    "    \n",
    "print(player(name1='kashif',name2='Ahtisham',name3='Bilal'))\n"
   ]
  },
  {
   "cell_type": "code",
   "execution_count": 13,
   "id": "c97f692f",
   "metadata": {},
   "outputs": [
    {
     "name": "stdout",
     "output_type": "stream",
     "text": [
      "the name is Mango\n"
     ]
    }
   ],
   "source": [
    "# Arbitary Parameter\n",
    "def fruit(*name):\n",
    "    print('the name is '+name[1])\n",
    "    \n",
    "fruit('Apple','Mango','Banana')"
   ]
  },
  {
   "cell_type": "markdown",
   "id": "7d251558",
   "metadata": {},
   "source": [
    "# Recusive  Function"
   ]
  },
  {
   "cell_type": "code",
   "execution_count": 14,
   "id": "ff6dcd9d",
   "metadata": {},
   "outputs": [
    {
     "name": "stdout",
     "output_type": "stream",
     "text": [
      "1\n",
      "3\n",
      "6\n",
      "10\n"
     ]
    },
    {
     "data": {
      "text/plain": [
       "10"
      ]
     },
     "execution_count": 14,
     "metadata": {},
     "output_type": "execute_result"
    }
   ],
   "source": [
    "def no(n):\n",
    "    if(n>0):\n",
    "        result=n+no(n-1)\n",
    "        print(result)\n",
    "    else:\n",
    "        result=0\n",
    "    return result\n",
    "\n",
    "no(4)"
   ]
  },
  {
   "cell_type": "code",
   "execution_count": 16,
   "id": "fc2f31d9",
   "metadata": {},
   "outputs": [
    {
     "name": "stdout",
     "output_type": "stream",
     "text": [
      "15\n"
     ]
    }
   ],
   "source": [
    "x= lambda i:i+10\n",
    "print(x(5))"
   ]
  },
  {
   "cell_type": "code",
   "execution_count": 2,
   "id": "3fd9d1b0",
   "metadata": {},
   "outputs": [
    {
     "name": "stdout",
     "output_type": "stream",
     "text": [
      "49\n"
     ]
    }
   ],
   "source": [
    "cal=lambda x ,y :x * y\n",
    "print(cal(7,7))"
   ]
  },
  {
   "cell_type": "code",
   "execution_count": 3,
   "id": "aa57bcde",
   "metadata": {},
   "outputs": [
    {
     "name": "stdout",
     "output_type": "stream",
     "text": [
      "15\n"
     ]
    }
   ],
   "source": [
    "math=lambda x,y,z:x+y+z\n",
    "print(math(3,5,7))"
   ]
  },
  {
   "cell_type": "markdown",
   "id": "6a93c8f9",
   "metadata": {},
   "source": [
    "# lambda use in user define Function"
   ]
  },
  {
   "cell_type": "code",
   "execution_count": 4,
   "id": "3e1c591c",
   "metadata": {},
   "outputs": [
    {
     "name": "stdout",
     "output_type": "stream",
     "text": [
      "20\n",
      "30\n"
     ]
    }
   ],
   "source": [
    "def mul(n):\n",
    "    return lambda x:x*n\n",
    "double=mul(2)\n",
    "triple=mul(3)\n",
    "\n",
    "print(double(10))\n",
    "print(triple(10))"
   ]
  },
  {
   "cell_type": "code",
   "execution_count": null,
   "id": "f66b4870",
   "metadata": {},
   "outputs": [],
   "source": []
  }
 ],
 "metadata": {
  "kernelspec": {
   "display_name": "Python 3 (ipykernel)",
   "language": "python",
   "name": "python3"
  },
  "language_info": {
   "codemirror_mode": {
    "name": "ipython",
    "version": 3
   },
   "file_extension": ".py",
   "mimetype": "text/x-python",
   "name": "python",
   "nbconvert_exporter": "python",
   "pygments_lexer": "ipython3",
   "version": "3.11.4"
  }
 },
 "nbformat": 4,
 "nbformat_minor": 5
}
