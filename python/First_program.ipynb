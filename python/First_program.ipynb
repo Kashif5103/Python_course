{
 "cells": [
  {
   "cell_type": "code",
   "execution_count": 2,
   "id": "1f25a32c",
   "metadata": {},
   "outputs": [
    {
     "name": "stdout",
     "output_type": "stream",
     "text": [
      "Python with fun\n"
     ]
    }
   ],
   "source": [
    "print('Python with fun')"
   ]
  },
  {
   "cell_type": "code",
   "execution_count": 4,
   "id": "abe78cfa",
   "metadata": {},
   "outputs": [
    {
     "data": {
      "text/plain": [
       "18"
      ]
     },
     "execution_count": 4,
     "metadata": {},
     "output_type": "execute_result"
    }
   ],
   "source": [
    "20+2-4"
   ]
  },
  {
   "cell_type": "markdown",
   "id": "7ad7ab61",
   "metadata": {},
   "source": [
    "# using jupiter"
   ]
  },
  {
   "cell_type": "markdown",
   "id": "3c3c9d97",
   "metadata": {},
   "source": [
    "## Identifier"
   ]
  },
  {
   "cell_type": "code",
   "execution_count": 6,
   "id": "eb466e4d",
   "metadata": {},
   "outputs": [],
   "source": [
    "name='kashif'"
   ]
  },
  {
   "cell_type": "code",
   "execution_count": 8,
   "id": "e5bdf006",
   "metadata": {},
   "outputs": [
    {
     "data": {
      "text/plain": [
       "'kashif'"
      ]
     },
     "execution_count": 8,
     "metadata": {},
     "output_type": "execute_result"
    }
   ],
   "source": [
    "name"
   ]
  },
  {
   "cell_type": "markdown",
   "id": "f25d036c",
   "metadata": {},
   "source": [
    "# statement"
   ]
  },
  {
   "cell_type": "code",
   "execution_count": 10,
   "id": "cdada335",
   "metadata": {},
   "outputs": [],
   "source": [
    "x=1+2+3+4+\\\n",
    "5+6+7+8+9"
   ]
  },
  {
   "cell_type": "code",
   "execution_count": 12,
   "id": "60e37013",
   "metadata": {},
   "outputs": [
    {
     "data": {
      "text/plain": [
       "45"
      ]
     },
     "execution_count": 12,
     "metadata": {},
     "output_type": "execute_result"
    }
   ],
   "source": [
    "x"
   ]
  },
  {
   "cell_type": "markdown",
   "id": "41e996e6",
   "metadata": {},
   "source": [
    "# Comments"
   ]
  },
  {
   "cell_type": "code",
   "execution_count": 14,
   "id": "395fa027",
   "metadata": {},
   "outputs": [],
   "source": [
    "# For single line"
   ]
  },
  {
   "cell_type": "code",
   "execution_count": 20,
   "id": "2d749f52",
   "metadata": {},
   "outputs": [],
   "source": [
    "# '''this is the multiline\\\n",
    "# comments are hare'''"
   ]
  }
 ],
 "metadata": {
  "kernelspec": {
   "display_name": "Python 3 (ipykernel)",
   "language": "python",
   "name": "python3"
  },
  "language_info": {
   "codemirror_mode": {
    "name": "ipython",
    "version": 3
   },
   "file_extension": ".py",
   "mimetype": "text/x-python",
   "name": "python",
   "nbconvert_exporter": "python",
   "pygments_lexer": "ipython3",
   "version": "3.11.4"
  }
 },
 "nbformat": 4,
 "nbformat_minor": 5
}
