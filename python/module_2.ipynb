{
 "cells": [
  {
   "cell_type": "markdown",
   "id": "0f302d10",
   "metadata": {},
   "source": [
    "# Variable"
   ]
  },
  {
   "cell_type": "code",
   "execution_count": 2,
   "id": "744c4e0b",
   "metadata": {},
   "outputs": [],
   "source": [
    "num=5"
   ]
  },
  {
   "cell_type": "code",
   "execution_count": 3,
   "id": "19dbeed2",
   "metadata": {},
   "outputs": [
    {
     "data": {
      "text/plain": [
       "5"
      ]
     },
     "execution_count": 3,
     "metadata": {},
     "output_type": "execute_result"
    }
   ],
   "source": [
    "num"
   ]
  },
  {
   "cell_type": "code",
   "execution_count": 5,
   "id": "a552b1bf",
   "metadata": {},
   "outputs": [],
   "source": [
    "name1='Google.com'"
   ]
  },
  {
   "cell_type": "code",
   "execution_count": 7,
   "id": "d50fcf84",
   "metadata": {},
   "outputs": [
    {
     "data": {
      "text/plain": [
       "'Google.com'"
      ]
     },
     "execution_count": 7,
     "metadata": {},
     "output_type": "execute_result"
    }
   ],
   "source": [
    "name1"
   ]
  },
  {
   "cell_type": "code",
   "execution_count": 9,
   "id": "c122388d",
   "metadata": {},
   "outputs": [],
   "source": [
    "name1='Apple.com'"
   ]
  },
  {
   "cell_type": "code",
   "execution_count": 11,
   "id": "e598ecb8",
   "metadata": {},
   "outputs": [
    {
     "data": {
      "text/plain": [
       "'Apple.com'"
      ]
     },
     "execution_count": 11,
     "metadata": {},
     "output_type": "execute_result"
    }
   ],
   "source": [
    "name1"
   ]
  },
  {
   "cell_type": "markdown",
   "id": "cdea52be",
   "metadata": {},
   "source": [
    "# Assigning multipr value in the same line"
   ]
  },
  {
   "cell_type": "code",
   "execution_count": 14,
   "id": "83bc0067",
   "metadata": {},
   "outputs": [],
   "source": [
    "num1,num2,num3,num,=1,2,3,'true'"
   ]
  },
  {
   "cell_type": "code",
   "execution_count": 16,
   "id": "24969470",
   "metadata": {},
   "outputs": [
    {
     "data": {
      "text/plain": [
       "1"
      ]
     },
     "execution_count": 16,
     "metadata": {},
     "output_type": "execute_result"
    }
   ],
   "source": [
    "num1"
   ]
  },
  {
   "cell_type": "code",
   "execution_count": 19,
   "id": "c9d206b6",
   "metadata": {},
   "outputs": [
    {
     "data": {
      "text/plain": [
       "'true'"
      ]
     },
     "execution_count": 19,
     "metadata": {},
     "output_type": "execute_result"
    }
   ],
   "source": [
    "num"
   ]
  },
  {
   "cell_type": "code",
   "execution_count": 21,
   "id": "2d62fd2f",
   "metadata": {},
   "outputs": [],
   "source": [
    "# Assign same value in different variables\n",
    "a=b=c='Kashif'"
   ]
  },
  {
   "cell_type": "code",
   "execution_count": 24,
   "id": "2763cc74",
   "metadata": {},
   "outputs": [
    {
     "data": {
      "text/plain": [
       "'Kashif'"
      ]
     },
     "execution_count": 24,
     "metadata": {},
     "output_type": "execute_result"
    }
   ],
   "source": [
    "a"
   ]
  },
  {
   "cell_type": "code",
   "execution_count": 26,
   "id": "38142a08",
   "metadata": {},
   "outputs": [
    {
     "data": {
      "text/plain": [
       "'Kashif'"
      ]
     },
     "execution_count": 26,
     "metadata": {},
     "output_type": "execute_result"
    }
   ],
   "source": [
    "b"
   ]
  },
  {
   "cell_type": "code",
   "execution_count": 27,
   "id": "46dc24db",
   "metadata": {},
   "outputs": [
    {
     "data": {
      "text/plain": [
       "'Kashif'"
      ]
     },
     "execution_count": 27,
     "metadata": {},
     "output_type": "execute_result"
    }
   ],
   "source": [
    "c"
   ]
  },
  {
   "cell_type": "code",
   "execution_count": 29,
   "id": "89bac518",
   "metadata": {},
   "outputs": [],
   "source": [
    "# Constant"
   ]
  },
  {
   "cell_type": "code",
   "execution_count": 31,
   "id": "c81c044d",
   "metadata": {},
   "outputs": [],
   "source": [
    "PI=3.14\n",
    "GRAVITY=9.8"
   ]
  },
  {
   "cell_type": "code",
   "execution_count": 34,
   "id": "74c5d4f1",
   "metadata": {},
   "outputs": [
    {
     "name": "stdout",
     "output_type": "stream",
     "text": [
      "3.14\n"
     ]
    },
    {
     "data": {
      "text/plain": [
       "9.8"
      ]
     },
     "execution_count": 34,
     "metadata": {},
     "output_type": "execute_result"
    }
   ],
   "source": [
    "print(PI)\n",
    "GRAVITY"
   ]
  },
  {
   "cell_type": "code",
   "execution_count": 35,
   "id": "6bb05aee",
   "metadata": {},
   "outputs": [],
   "source": [
    "# String Literals"
   ]
  },
  {
   "cell_type": "code",
   "execution_count": 37,
   "id": "7a03f863",
   "metadata": {},
   "outputs": [
    {
     "name": "stdout",
     "output_type": "stream",
     "text": [
      "Python is fun\n",
      "I\n",
      "Ünicöde\n",
      "This is a \n",
      "multiline string\n",
      "Ünicöde\n",
      "raw\\nstring\n"
     ]
    }
   ],
   "source": [
    "msg='Python is fun'\n",
    "char='I'\n",
    "multiline=\"\"\"This is a \n",
    "multiline string\"\"\"\n",
    "unicode=u\"\\u00dcnic\\u00f6de\"\n",
    "raw_str=r\"raw\\nstring\"\n",
    "\n",
    "print(msg)\n",
    "print(char)\n",
    "print(unicode)\n",
    "print(multiline)\n",
    "print(unicode)\n",
    "print(raw_str)"
   ]
  },
  {
   "cell_type": "markdown",
   "id": "34979c6c",
   "metadata": {},
   "source": [
    "# Boolean Literials"
   ]
  },
  {
   "cell_type": "code",
   "execution_count": 39,
   "id": "d333bb70",
   "metadata": {},
   "outputs": [],
   "source": [
    "a=(1==True)\n",
    "b=(1==False)\n",
    "c=True+4\n",
    "d=False+5"
   ]
  },
  {
   "cell_type": "code",
   "execution_count": 40,
   "id": "3a3d0e7f",
   "metadata": {},
   "outputs": [
    {
     "data": {
      "text/plain": [
       "True"
      ]
     },
     "execution_count": 40,
     "metadata": {},
     "output_type": "execute_result"
    }
   ],
   "source": [
    "a"
   ]
  },
  {
   "cell_type": "code",
   "execution_count": 41,
   "id": "a7138c38",
   "metadata": {},
   "outputs": [
    {
     "data": {
      "text/plain": [
       "False"
      ]
     },
     "execution_count": 41,
     "metadata": {},
     "output_type": "execute_result"
    }
   ],
   "source": [
    "b"
   ]
  },
  {
   "cell_type": "code",
   "execution_count": 42,
   "id": "764a4510",
   "metadata": {},
   "outputs": [
    {
     "data": {
      "text/plain": [
       "5"
      ]
     },
     "execution_count": 42,
     "metadata": {},
     "output_type": "execute_result"
    }
   ],
   "source": [
    "c"
   ]
  },
  {
   "cell_type": "code",
   "execution_count": 43,
   "id": "3524ae80",
   "metadata": {},
   "outputs": [
    {
     "data": {
      "text/plain": [
       "5"
      ]
     },
     "execution_count": 43,
     "metadata": {},
     "output_type": "execute_result"
    }
   ],
   "source": [
    "d"
   ]
  },
  {
   "cell_type": "markdown",
   "id": "64f35876",
   "metadata": {},
   "source": [
    "#  Special Literials"
   ]
  },
  {
   "cell_type": "code",
   "execution_count": 45,
   "id": "1bf8db16",
   "metadata": {},
   "outputs": [
    {
     "name": "stdout",
     "output_type": "stream",
     "text": [
      "None\n",
      "Available\n"
     ]
    }
   ],
   "source": [
    "drink=\"Available\"\n",
    "food=None\n",
    "\n",
    "def num_manu(a):\n",
    "    if a==drink:\n",
    "        print(drink)\n",
    "    else:\n",
    "        print(food)\n",
    "        \n",
    "num_manu(food)\n",
    "num_manu(drink)\n",
    "        "
   ]
  },
  {
   "cell_type": "markdown",
   "id": "324e2356",
   "metadata": {},
   "source": [
    "#  collection Literials"
   ]
  },
  {
   "cell_type": "code",
   "execution_count": 46,
   "id": "df81fe27",
   "metadata": {},
   "outputs": [],
   "source": [
    "fruits=['lemon','mango','banana'] #list\n",
    "number=(1,2,3,4,5) #Tuple\n",
    "words={\"first\":\"Banana\",\"second\":\"Orange\"}# Dict\n",
    "chars={'a','b','c','d','a'}"
   ]
  },
  {
   "cell_type": "code",
   "execution_count": 47,
   "id": "f3568d49",
   "metadata": {},
   "outputs": [
    {
     "name": "stdout",
     "output_type": "stream",
     "text": [
      "['lemon', 'mango', 'banana']\n",
      "(1, 2, 3, 4, 5)\n",
      "{'first': 'Banana', 'second': 'Orange'}\n",
      "{'c', 'd', 'a', 'b'}\n"
     ]
    }
   ],
   "source": [
    "print(fruits)\n",
    "print(number)\n",
    "print(words)\n",
    "print(chars)"
   ]
  },
  {
   "cell_type": "code",
   "execution_count": null,
   "id": "0b2986f9",
   "metadata": {},
   "outputs": [],
   "source": []
  }
 ],
 "metadata": {
  "kernelspec": {
   "display_name": "Python 3 (ipykernel)",
   "language": "python",
   "name": "python3"
  },
  "language_info": {
   "codemirror_mode": {
    "name": "ipython",
    "version": 3
   },
   "file_extension": ".py",
   "mimetype": "text/x-python",
   "name": "python",
   "nbconvert_exporter": "python",
   "pygments_lexer": "ipython3",
   "version": "3.11.4"
  }
 },
 "nbformat": 4,
 "nbformat_minor": 5
}
