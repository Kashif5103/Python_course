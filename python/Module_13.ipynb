{
 "cells": [
  {
   "cell_type": "code",
   "execution_count": 2,
   "id": "f39c0251",
   "metadata": {},
   "outputs": [
    {
     "name": "stdout",
     "output_type": "stream",
     "text": [
      "<class '__main__.new_class'>\n",
      "10\n"
     ]
    }
   ],
   "source": [
    "class new_class:\n",
    "    num=10\n",
    "    \n",
    "print(new_class)\n",
    "c1=new_class\n",
    "print(c1.num)"
   ]
  },
  {
   "cell_type": "code",
   "execution_count": 13,
   "id": "adef3ff1",
   "metadata": {},
   "outputs": [
    {
     "name": "stdout",
     "output_type": "stream",
     "text": [
      "Hi. My Name is Kashif\n",
      "20\n"
     ]
    },
    {
     "ename": "NameError",
     "evalue": "name 'perl' is not defined",
     "output_type": "error",
     "traceback": [
      "\u001b[1;31m---------------------------------------------------------------------------\u001b[0m",
      "\u001b[1;31mNameError\u001b[0m                                 Traceback (most recent call last)",
      "Cell \u001b[1;32mIn[13], line 17\u001b[0m\n\u001b[0;32m     15\u001b[0m \u001b[38;5;28mprint\u001b[39m(per1\u001b[38;5;241m.\u001b[39mage)\n\u001b[0;32m     16\u001b[0m \u001b[38;5;28;01mdel\u001b[39;00m per1\n\u001b[1;32m---> 17\u001b[0m \u001b[38;5;28mprint\u001b[39m(perl)\n",
      "\u001b[1;31mNameError\u001b[0m: name 'perl' is not defined"
     ]
    }
   ],
   "source": [
    "# Using the init method\n",
    "\n",
    "class person:\n",
    "    def __init__(self,name,age):\n",
    "        self.name=name\n",
    "        self.age=age\n",
    "    def hi(self):\n",
    "        print('Hi. My Name is '+self.name)\n",
    "per1=person(\"Kashif\",22)\n",
    "per1.hi()\n",
    "# print(per1.name)\n",
    "# print(per1.age)\n",
    "# modify\n",
    "per1.age=20\n",
    "print(per1.age)\n",
    "del per1\n",
    "print(perl)"
   ]
  },
  {
   "cell_type": "code",
   "execution_count": null,
   "id": "bf6e6db1",
   "metadata": {},
   "outputs": [],
   "source": []
  }
 ],
 "metadata": {
  "kernelspec": {
   "display_name": "Python 3 (ipykernel)",
   "language": "python",
   "name": "python3"
  },
  "language_info": {
   "codemirror_mode": {
    "name": "ipython",
    "version": 3
   },
   "file_extension": ".py",
   "mimetype": "text/x-python",
   "name": "python",
   "nbconvert_exporter": "python",
   "pygments_lexer": "ipython3",
   "version": "3.11.4"
  }
 },
 "nbformat": 4,
 "nbformat_minor": 5
}
