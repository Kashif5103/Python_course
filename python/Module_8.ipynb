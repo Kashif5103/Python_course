{
 "cells": [
  {
   "cell_type": "markdown",
   "id": "02572cd8",
   "metadata": {},
   "source": [
    "# lists"
   ]
  },
  {
   "cell_type": "code",
   "execution_count": 49,
   "id": "df853ab5",
   "metadata": {},
   "outputs": [
    {
     "name": "stdout",
     "output_type": "stream",
     "text": [
      "['mango', 'orange', 'banana', 'fig', 'mango']\n"
     ]
    }
   ],
   "source": [
    "# Creating a lists\n",
    "Fruits=['mango','orange','banana','fig','mango']\n",
    "print(Fruits)"
   ]
  },
  {
   "cell_type": "code",
   "execution_count": 50,
   "id": "b246fa94",
   "metadata": {},
   "outputs": [
    {
     "name": "stdout",
     "output_type": "stream",
     "text": [
      "5\n"
     ]
    }
   ],
   "source": [
    "print(len(Fruits))"
   ]
  },
  {
   "cell_type": "code",
   "execution_count": 51,
   "id": "da208bc9",
   "metadata": {},
   "outputs": [
    {
     "name": "stdout",
     "output_type": "stream",
     "text": [
      "[1, 2, 3, 4, 5, 6] [True, True, False]\n"
     ]
    }
   ],
   "source": [
    "mynumber=[1,2,3,4,5,6]\n",
    "mybool=[True,True,False]\n",
    "print(mynumber,mybool)"
   ]
  },
  {
   "cell_type": "code",
   "execution_count": 52,
   "id": "9e8ad2ec",
   "metadata": {},
   "outputs": [
    {
     "name": "stdout",
     "output_type": "stream",
     "text": [
      "[1, 2, 3, 'kashif', 'True', 5, 6]\n"
     ]
    }
   ],
   "source": [
    "mixed_lists=[1,2,3,'kashif','True',5,6]\n",
    "print(mixed_lists)"
   ]
  },
  {
   "cell_type": "code",
   "execution_count": 53,
   "id": "8c4436d6",
   "metadata": {},
   "outputs": [
    {
     "name": "stdout",
     "output_type": "stream",
     "text": [
      "<class 'list'>\n"
     ]
    }
   ],
   "source": [
    "print(type(mixed_lists))"
   ]
  },
  {
   "cell_type": "code",
   "execution_count": 54,
   "id": "51bc8462",
   "metadata": {},
   "outputs": [
    {
     "data": {
      "text/plain": [
       "list"
      ]
     },
     "execution_count": 54,
     "metadata": {},
     "output_type": "execute_result"
    }
   ],
   "source": [
    "type(mixed_lists)"
   ]
  },
  {
   "cell_type": "code",
   "execution_count": 55,
   "id": "75c66281",
   "metadata": {},
   "outputs": [
    {
     "name": "stdout",
     "output_type": "stream",
     "text": [
      "['banana', 'cherry', 'lemon']\n"
     ]
    }
   ],
   "source": [
    "fruits_lists =list(('banana','cherry','lemon'))\n",
    "print(fruits_lists)"
   ]
  },
  {
   "cell_type": "code",
   "execution_count": 56,
   "id": "4562a132",
   "metadata": {},
   "outputs": [
    {
     "data": {
      "text/plain": [
       "list"
      ]
     },
     "execution_count": 56,
     "metadata": {},
     "output_type": "execute_result"
    }
   ],
   "source": [
    "type(fruits_lists)"
   ]
  },
  {
   "cell_type": "code",
   "execution_count": 57,
   "id": "dcaf381b",
   "metadata": {},
   "outputs": [
    {
     "data": {
      "text/plain": [
       "3"
      ]
     },
     "execution_count": 57,
     "metadata": {},
     "output_type": "execute_result"
    }
   ],
   "source": [
    "len(fruits_lists)"
   ]
  },
  {
   "cell_type": "code",
   "execution_count": 58,
   "id": "f9291b83",
   "metadata": {},
   "outputs": [
    {
     "name": "stdout",
     "output_type": "stream",
     "text": [
      "banana\n",
      "cherry\n"
     ]
    }
   ],
   "source": [
    "print(fruits_lists[0])\n",
    "print(fruits_lists[1])"
   ]
  },
  {
   "cell_type": "code",
   "execution_count": 59,
   "id": "812ff99b",
   "metadata": {},
   "outputs": [
    {
     "name": "stdout",
     "output_type": "stream",
     "text": [
      "lemon\n",
      "cherry\n"
     ]
    }
   ],
   "source": [
    "print(fruits_lists[-1])\n",
    "print(fruits_lists[-2])"
   ]
  },
  {
   "cell_type": "code",
   "execution_count": 60,
   "id": "05a57b18",
   "metadata": {},
   "outputs": [
    {
     "name": "stdout",
     "output_type": "stream",
     "text": [
      "['cherry', 'lemon']\n"
     ]
    }
   ],
   "source": [
    "print(fruits_lists[1:])"
   ]
  },
  {
   "cell_type": "code",
   "execution_count": 61,
   "id": "08387651",
   "metadata": {},
   "outputs": [
    {
     "name": "stdout",
     "output_type": "stream",
     "text": [
      "banana is in the fruits_lists\n"
     ]
    }
   ],
   "source": [
    "if 'banana' in fruits_lists:\n",
    "    print('banana is in the fruits_lists')"
   ]
  },
  {
   "cell_type": "code",
   "execution_count": 62,
   "id": "5a3dccea",
   "metadata": {},
   "outputs": [
    {
     "name": "stdout",
     "output_type": "stream",
     "text": [
      "not in fruits\n"
     ]
    }
   ],
   "source": [
    "if 'fig' in fruits_lists:\n",
    "    print('fig in th fruits')\n",
    "else:\n",
    "    print('not in fruits')"
   ]
  },
  {
   "cell_type": "code",
   "execution_count": 63,
   "id": "5bee3bf3",
   "metadata": {},
   "outputs": [
    {
     "data": {
      "text/plain": [
       "['banana', 'cherry', 'lemon']"
      ]
     },
     "execution_count": 63,
     "metadata": {},
     "output_type": "execute_result"
    }
   ],
   "source": [
    "fruits_lists"
   ]
  },
  {
   "cell_type": "code",
   "execution_count": 64,
   "id": "586b9f57",
   "metadata": {},
   "outputs": [
    {
     "name": "stdout",
     "output_type": "stream",
     "text": [
      "['banana', 'Apple', 'lemon']\n"
     ]
    }
   ],
   "source": [
    "fruits_lists[1]='Apple'\n",
    "print(fruits_lists)"
   ]
  },
  {
   "cell_type": "code",
   "execution_count": 65,
   "id": "15f6b3fe",
   "metadata": {},
   "outputs": [
    {
     "name": "stdout",
     "output_type": "stream",
     "text": [
      "[['fig', 'Watermelon'], 'Apple', 'lemon']\n"
     ]
    }
   ],
   "source": [
    "fruits_lists[0]=['fig','Watermelon']\n",
    "print(fruits_lists)"
   ]
  },
  {
   "cell_type": "code",
   "execution_count": 66,
   "id": "c674891b",
   "metadata": {},
   "outputs": [
    {
     "name": "stdout",
     "output_type": "stream",
     "text": [
      "[['fig', 'Watermelon'], 'banana', 'Apple', 'lemon']\n"
     ]
    }
   ],
   "source": [
    "fruits_lists.insert(1,'banana') #or use the append method\n",
    "print(fruits_lists)"
   ]
  },
  {
   "cell_type": "code",
   "execution_count": 67,
   "id": "07e4dc56",
   "metadata": {},
   "outputs": [
    {
     "name": "stdout",
     "output_type": "stream",
     "text": [
      "[['fig', 'Watermelon'], 'banana', 'Apple', 'lemon', 'gava', 'cherry']\n"
     ]
    }
   ],
   "source": [
    "fruits2=['gava','cherry']\n",
    "fruits_lists.extend(fruits2)\n",
    "print(fruits_lists)"
   ]
  },
  {
   "cell_type": "code",
   "execution_count": 68,
   "id": "2aa2a313",
   "metadata": {},
   "outputs": [
    {
     "name": "stdout",
     "output_type": "stream",
     "text": [
      "[['fig', 'Watermelon'], 'Apple', 'lemon', 'gava', 'cherry']\n"
     ]
    }
   ],
   "source": [
    "fruits_lists.remove('banana')\n",
    "print(fruits_lists)"
   ]
  },
  {
   "cell_type": "code",
   "execution_count": 69,
   "id": "8902786d",
   "metadata": {},
   "outputs": [
    {
     "name": "stdout",
     "output_type": "stream",
     "text": [
      "[['fig', 'Watermelon'], 'lemon', 'gava', 'cherry']\n"
     ]
    }
   ],
   "source": [
    "fruits_lists.pop(1)\n",
    "print(fruits_lists)"
   ]
  },
  {
   "cell_type": "code",
   "execution_count": 70,
   "id": "ef4ca80e",
   "metadata": {},
   "outputs": [
    {
     "data": {
      "text/plain": [
       "'cherry'"
      ]
     },
     "execution_count": 70,
     "metadata": {},
     "output_type": "execute_result"
    }
   ],
   "source": [
    "fruits_lists.pop()"
   ]
  },
  {
   "cell_type": "code",
   "execution_count": 71,
   "id": "9a33309d",
   "metadata": {},
   "outputs": [
    {
     "name": "stdout",
     "output_type": "stream",
     "text": [
      "[['fig', 'Watermelon'], 'gava']\n"
     ]
    }
   ],
   "source": [
    "fruits_lists.remove('lemon')\n",
    "print(fruits_lists)"
   ]
  },
  {
   "cell_type": "code",
   "execution_count": 72,
   "id": "3b1108ee",
   "metadata": {},
   "outputs": [
    {
     "name": "stdout",
     "output_type": "stream",
     "text": [
      "['gava']\n"
     ]
    }
   ],
   "source": [
    "del fruits_lists[0] # del the complete list using del name\n",
    "print(fruits_lists)"
   ]
  },
  {
   "cell_type": "code",
   "execution_count": 74,
   "id": "81fbfee5",
   "metadata": {},
   "outputs": [],
   "source": [
    "fruits=['fig','apple','banana']\n",
    "fruits.clear()"
   ]
  },
  {
   "cell_type": "code",
   "execution_count": 75,
   "id": "2432fda7",
   "metadata": {},
   "outputs": [
    {
     "data": {
      "text/plain": [
       "[]"
      ]
     },
     "execution_count": 75,
     "metadata": {},
     "output_type": "execute_result"
    }
   ],
   "source": [
    "fruits"
   ]
  },
  {
   "cell_type": "code",
   "execution_count": 76,
   "id": "99909e79",
   "metadata": {},
   "outputs": [
    {
     "name": "stdout",
     "output_type": "stream",
     "text": [
      "Y\n",
      "16\n"
     ]
    }
   ],
   "source": [
    "aList = [\"PYsde\", [4, 8, 12, 16]]\n",
    "print(aList[0][1])    \n",
    "print(aList[1][3])"
   ]
  },
  {
   "cell_type": "code",
   "execution_count": 77,
   "id": "989a401e",
   "metadata": {},
   "outputs": [
    {
     "name": "stdout",
     "output_type": "stream",
     "text": [
      "40\n",
      "[20, 30, 40]\n"
     ]
    }
   ],
   "source": [
    "sampleList = [10, 20, 30, 40, 50]\n",
    "print(sampleList[-2])\n",
    "print(sampleList[-4:-1])"
   ]
  },
  {
   "cell_type": "code",
   "execution_count": null,
   "id": "ed64d031",
   "metadata": {},
   "outputs": [],
   "source": []
  }
 ],
 "metadata": {
  "kernelspec": {
   "display_name": "Python 3 (ipykernel)",
   "language": "python",
   "name": "python3"
  },
  "language_info": {
   "codemirror_mode": {
    "name": "ipython",
    "version": 3
   },
   "file_extension": ".py",
   "mimetype": "text/x-python",
   "name": "python",
   "nbconvert_exporter": "python",
   "pygments_lexer": "ipython3",
   "version": "3.11.4"
  }
 },
 "nbformat": 4,
 "nbformat_minor": 5
}
