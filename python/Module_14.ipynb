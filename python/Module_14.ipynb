{
 "cells": [
  {
   "cell_type": "markdown",
   "id": "d822de98",
   "metadata": {},
   "source": [
    "# Read The File"
   ]
  },
  {
   "cell_type": "code",
   "execution_count": 9,
   "id": "139ede05",
   "metadata": {},
   "outputs": [
    {
     "name": "stdout",
     "output_type": "stream",
     "text": [
      "Hi!\n",
      "\n",
      "This is a text File.\n",
      "\n",
      "Thank You\n"
     ]
    }
   ],
   "source": [
    "f= open('demo.txt','r')\n",
    "# print(f.read(7))\n",
    "# print(f.readline())\n",
    "# print(f.readline())\n",
    "# print(f.readline())\n",
    "# f.close()\n",
    "for i in f:\n",
    "    print(i)"
   ]
  },
  {
   "cell_type": "markdown",
   "id": "76f37d57",
   "metadata": {},
   "source": [
    "# Writting in a file"
   ]
  },
  {
   "cell_type": "code",
   "execution_count": 11,
   "id": "e1a9bc24",
   "metadata": {},
   "outputs": [],
   "source": [
    "f=open('demo2.txt','a')\n",
    "f.write('The writer of the file is Kashif')\n",
    "f.close()"
   ]
  },
  {
   "cell_type": "code",
   "execution_count": 13,
   "id": "f3c217e2",
   "metadata": {},
   "outputs": [
    {
     "name": "stdout",
     "output_type": "stream",
     "text": [
      "The writer of the file is Kashif\n"
     ]
    }
   ],
   "source": [
    "f=open('demo2.txt','r')\n",
    "print(f.read())\n",
    "# f=open('demo3.txt',x)\n",
    "# "
   ]
  },
  {
   "cell_type": "code",
   "execution_count": null,
   "id": "c3eb2161",
   "metadata": {},
   "outputs": [],
   "source": []
  }
 ],
 "metadata": {
  "kernelspec": {
   "display_name": "Python 3 (ipykernel)",
   "language": "python",
   "name": "python3"
  },
  "language_info": {
   "codemirror_mode": {
    "name": "ipython",
    "version": 3
   },
   "file_extension": ".py",
   "mimetype": "text/x-python",
   "name": "python",
   "nbconvert_exporter": "python",
   "pygments_lexer": "ipython3",
   "version": "3.11.4"
  }
 },
 "nbformat": 4,
 "nbformat_minor": 5
}
