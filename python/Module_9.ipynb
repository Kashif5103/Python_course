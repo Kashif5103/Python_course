{
 "cells": [
  {
   "cell_type": "markdown",
   "id": "c003d939",
   "metadata": {},
   "source": [
    "# Tuple in Python"
   ]
  },
  {
   "cell_type": "code",
   "execution_count": 1,
   "id": "3da26562",
   "metadata": {},
   "outputs": [
    {
     "name": "stdout",
     "output_type": "stream",
     "text": [
      "('fig', 'lemon', 'orange')\n"
     ]
    }
   ],
   "source": [
    "fruits=('fig','lemon','orange')\n",
    "print(fruits)"
   ]
  },
  {
   "cell_type": "code",
   "execution_count": 2,
   "id": "7ea0a337",
   "metadata": {},
   "outputs": [
    {
     "data": {
      "text/plain": [
       "tuple"
      ]
     },
     "execution_count": 2,
     "metadata": {},
     "output_type": "execute_result"
    }
   ],
   "source": [
    "type(fruits)"
   ]
  },
  {
   "cell_type": "code",
   "execution_count": 3,
   "id": "bbe16bf4",
   "metadata": {},
   "outputs": [
    {
     "name": "stdout",
     "output_type": "stream",
     "text": [
      "('fig', 'banana', 'orange', 'lemon')\n"
     ]
    }
   ],
   "source": [
    "fruits=('fig','banana','orange','lemon')\n",
    "print(fruits)"
   ]
  },
  {
   "cell_type": "code",
   "execution_count": 4,
   "id": "efedd110",
   "metadata": {},
   "outputs": [
    {
     "data": {
      "text/plain": [
       "4"
      ]
     },
     "execution_count": 4,
     "metadata": {},
     "output_type": "execute_result"
    }
   ],
   "source": [
    "len(fruits)"
   ]
  },
  {
   "cell_type": "code",
   "execution_count": 5,
   "id": "45a87bef",
   "metadata": {},
   "outputs": [
    {
     "name": "stdout",
     "output_type": "stream",
     "text": [
      "<class 'str'>\n",
      "<class 'tuple'>\n"
     ]
    }
   ],
   "source": [
    "fruits1=('banana')\n",
    "fruits2=('banana',)\n",
    "\n",
    "print(type(fruits1))\n",
    "print(type(fruits2))"
   ]
  },
  {
   "cell_type": "code",
   "execution_count": 6,
   "id": "34f9065b",
   "metadata": {},
   "outputs": [],
   "source": [
    "fruit=('banana','Apple','Mango')\n",
    "Number=(1,2,3,4,5,6,7)\n",
    "bool_1=(True,False,True)"
   ]
  },
  {
   "cell_type": "code",
   "execution_count": 7,
   "id": "ac253207",
   "metadata": {},
   "outputs": [
    {
     "data": {
      "text/plain": [
       "('fig', 'banana', 'orange', 'lemon')"
      ]
     },
     "execution_count": 7,
     "metadata": {},
     "output_type": "execute_result"
    }
   ],
   "source": [
    "fruits"
   ]
  },
  {
   "cell_type": "code",
   "execution_count": 8,
   "id": "999501c8",
   "metadata": {},
   "outputs": [
    {
     "data": {
      "text/plain": [
       "(1, 2, 3, 4, 5, 6, 7)"
      ]
     },
     "execution_count": 8,
     "metadata": {},
     "output_type": "execute_result"
    }
   ],
   "source": [
    "Number"
   ]
  },
  {
   "cell_type": "code",
   "execution_count": 9,
   "id": "7bb5561a",
   "metadata": {},
   "outputs": [
    {
     "data": {
      "text/plain": [
       "(True, False, True)"
      ]
     },
     "execution_count": 9,
     "metadata": {},
     "output_type": "execute_result"
    }
   ],
   "source": [
    "bool_1"
   ]
  },
  {
   "cell_type": "code",
   "execution_count": 10,
   "id": "f8840f07",
   "metadata": {},
   "outputs": [
    {
     "name": "stdout",
     "output_type": "stream",
     "text": [
      "('hi', True, 2, 5, 7)\n"
     ]
    }
   ],
   "source": [
    "mix_t=(\"hi\",True,2,5,7)\n",
    "print(mix_t)"
   ]
  },
  {
   "cell_type": "code",
   "execution_count": 11,
   "id": "c2848271",
   "metadata": {},
   "outputs": [
    {
     "name": "stdout",
     "output_type": "stream",
     "text": [
      "('Banana', 'Mango', 'fig')\n",
      "<class 'tuple'>\n"
     ]
    }
   ],
   "source": [
    "new_f=tuple(('Banana','Mango','fig'))\n",
    "print(new_f)\n",
    "print(type(new_f))"
   ]
  },
  {
   "cell_type": "code",
   "execution_count": 12,
   "id": "3a0700ea",
   "metadata": {},
   "outputs": [
    {
     "name": "stdout",
     "output_type": "stream",
     "text": [
      "Banana\n",
      "Mango\n"
     ]
    }
   ],
   "source": [
    "print(new_f[0])\n",
    "print(new_f[1])"
   ]
  },
  {
   "cell_type": "code",
   "execution_count": 13,
   "id": "c03d8fe1",
   "metadata": {},
   "outputs": [
    {
     "name": "stdout",
     "output_type": "stream",
     "text": [
      "fig\n",
      "Mango\n"
     ]
    }
   ],
   "source": [
    "print(new_f[-1])\n",
    "print(new_f[-2])"
   ]
  },
  {
   "cell_type": "code",
   "execution_count": 14,
   "id": "b0879692",
   "metadata": {},
   "outputs": [
    {
     "name": "stdout",
     "output_type": "stream",
     "text": [
      "('Banana', 'Mango')\n"
     ]
    }
   ],
   "source": [
    "print(new_f[0:2])"
   ]
  },
  {
   "cell_type": "code",
   "execution_count": 16,
   "id": "be5b2a9f",
   "metadata": {},
   "outputs": [
    {
     "name": "stdout",
     "output_type": "stream",
     "text": [
      "Yes! Banana in fruits\n"
     ]
    }
   ],
   "source": [
    "if 'Banana'in new_f:\n",
    "    print('Yes! Banana in fruits')"
   ]
  },
  {
   "cell_type": "code",
   "execution_count": 18,
   "id": "c02c356d",
   "metadata": {},
   "outputs": [
    {
     "name": "stdout",
     "output_type": "stream",
     "text": [
      "['fig', 'Watermelon', 'orange', 'lemon']\n"
     ]
    }
   ],
   "source": [
    "# if we Add or remove item in tuple first we convert into the list than we do the operation\n",
    "new_f=list(fruits)\n",
    "new_f[1]='Watermelon'\n",
    "fruits=tuple(new_f)\n",
    "\n",
    "print(new_f)"
   ]
  },
  {
   "cell_type": "code",
   "execution_count": 19,
   "id": "5c00b171",
   "metadata": {},
   "outputs": [
    {
     "name": "stdout",
     "output_type": "stream",
     "text": [
      "Yellow\n"
     ]
    }
   ],
   "source": [
    "aTuple = \"Yellow\", 20, \"Red\"\n",
    "a, b, c = aTuple\n",
    "print(a)"
   ]
  },
  {
   "cell_type": "code",
   "execution_count": null,
   "id": "86a136ec",
   "metadata": {},
   "outputs": [],
   "source": []
  }
 ],
 "metadata": {
  "kernelspec": {
   "display_name": "Python 3 (ipykernel)",
   "language": "python",
   "name": "python3"
  },
  "language_info": {
   "codemirror_mode": {
    "name": "ipython",
    "version": 3
   },
   "file_extension": ".py",
   "mimetype": "text/x-python",
   "name": "python",
   "nbconvert_exporter": "python",
   "pygments_lexer": "ipython3",
   "version": "3.11.4"
  }
 },
 "nbformat": 4,
 "nbformat_minor": 5
}
