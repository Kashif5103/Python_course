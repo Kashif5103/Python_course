{
 "cells": [
  {
   "cell_type": "code",
   "execution_count": 2,
   "id": "3108b9ee",
   "metadata": {},
   "outputs": [
    {
     "name": "stdout",
     "output_type": "stream",
     "text": [
      "the  thing print using the build in function\n"
     ]
    }
   ],
   "source": [
    "print( \"the  thing print using the build in function\")"
   ]
  },
  {
   "cell_type": "code",
   "execution_count": 4,
   "id": "f7c80692",
   "metadata": {},
   "outputs": [
    {
     "name": "stdout",
     "output_type": "stream",
     "text": [
      "the the value of x is : 10\n"
     ]
    }
   ],
   "source": [
    "x=10\n",
    "print('the the value of x is :',x)"
   ]
  },
  {
   "cell_type": "code",
   "execution_count": 6,
   "id": "85d2c19a",
   "metadata": {},
   "outputs": [
    {
     "name": "stdout",
     "output_type": "stream",
     "text": [
      "1 2 3 4 5 6 7\n"
     ]
    }
   ],
   "source": [
    "print(1,2,3,4,5,6,7)"
   ]
  },
  {
   "cell_type": "code",
   "execution_count": 9,
   "id": "5d020326",
   "metadata": {},
   "outputs": [
    {
     "name": "stdout",
     "output_type": "stream",
     "text": [
      "1&2&3&4&5&6&7\n"
     ]
    }
   ],
   "source": [
    "print(1,2,3,4,5,6,7, sep=\"&\")"
   ]
  },
  {
   "cell_type": "code",
   "execution_count": 13,
   "id": "5079fa35",
   "metadata": {},
   "outputs": [
    {
     "name": "stdout",
     "output_type": "stream",
     "text": [
      "1&2&3&4&5&6&7#"
     ]
    }
   ],
   "source": [
    "print(1,2,3,4,5,6,7, sep='&',end='#')"
   ]
  },
  {
   "cell_type": "markdown",
   "id": "c018791b",
   "metadata": {},
   "source": [
    "# formatting the output"
   ]
  },
  {
   "cell_type": "code",
   "execution_count": 17,
   "id": "905fbd0f",
   "metadata": {},
   "outputs": [
    {
     "name": "stdout",
     "output_type": "stream",
     "text": [
      "the value of x is 10 and the value of y is 12\n"
     ]
    }
   ],
   "source": [
    "x=10\n",
    "y=12\n",
    "print('the value of x is {} and the value of y is {}'.format(x,y))"
   ]
  },
  {
   "cell_type": "code",
   "execution_count": 20,
   "id": "648ede51",
   "metadata": {},
   "outputs": [
    {
     "name": "stdout",
     "output_type": "stream",
     "text": [
      "i like the Tea and also Milk\n",
      "I like the Milk and also tea\n"
     ]
    }
   ],
   "source": [
    "print('i like the {0} and also {1}'.format('Tea','Milk'))\n",
    "print('I like the {1} and also {0}'.format('tea','Milk'))"
   ]
  },
  {
   "cell_type": "code",
   "execution_count": 23,
   "id": "700bd9cb",
   "metadata": {},
   "outputs": [
    {
     "name": "stdout",
     "output_type": "stream",
     "text": [
      "hi welcome Kashif\n"
     ]
    }
   ],
   "source": [
    "# using the keyword args to the format\n",
    "print('hi {great} {Name}'.format(great='welcome',Name='Kashif'))"
   ]
  },
  {
   "cell_type": "code",
   "execution_count": 29,
   "id": "5909f13e",
   "metadata": {},
   "outputs": [
    {
     "name": "stdout",
     "output_type": "stream",
     "text": [
      "enter the no;12\n"
     ]
    }
   ],
   "source": [
    "number=input(\"enter the no;\")"
   ]
  },
  {
   "cell_type": "code",
   "execution_count": 30,
   "id": "808b6aed",
   "metadata": {},
   "outputs": [
    {
     "data": {
      "text/plain": [
       "'12'"
      ]
     },
     "execution_count": 30,
     "metadata": {},
     "output_type": "execute_result"
    }
   ],
   "source": [
    "number"
   ]
  },
  {
   "cell_type": "markdown",
   "id": "5347b43a",
   "metadata": {},
   "source": [
    "# importing the SL"
   ]
  },
  {
   "cell_type": "code",
   "execution_count": 32,
   "id": "effbb688",
   "metadata": {},
   "outputs": [
    {
     "name": "stdout",
     "output_type": "stream",
     "text": [
      "3.141592653589793\n",
      "2.718281828459045\n"
     ]
    }
   ],
   "source": [
    "import math\n",
    "print(math.pi)\n",
    "print(math.e)"
   ]
  },
  {
   "cell_type": "code",
   "execution_count": 34,
   "id": "1fd15739",
   "metadata": {},
   "outputs": [
    {
     "name": "stdout",
     "output_type": "stream",
     "text": [
      "3.141592653589793\n",
      "2.718281828459045\n"
     ]
    }
   ],
   "source": [
    "from math import pi,e\n",
    "print(pi)\n",
    "print(e)"
   ]
  },
  {
   "cell_type": "code",
   "execution_count": 35,
   "id": "adec315c",
   "metadata": {},
   "outputs": [
    {
     "data": {
      "text/plain": [
       "['C:\\\\Users\\\\HC\\\\Python',\n",
       " 'C:\\\\Users\\\\HC\\\\anaconda3\\\\python311.zip',\n",
       " 'C:\\\\Users\\\\HC\\\\anaconda3\\\\DLLs',\n",
       " 'C:\\\\Users\\\\HC\\\\anaconda3\\\\Lib',\n",
       " 'C:\\\\Users\\\\HC\\\\anaconda3',\n",
       " '',\n",
       " 'C:\\\\Users\\\\HC\\\\anaconda3\\\\Lib\\\\site-packages',\n",
       " 'C:\\\\Users\\\\HC\\\\anaconda3\\\\Lib\\\\site-packages\\\\win32',\n",
       " 'C:\\\\Users\\\\HC\\\\anaconda3\\\\Lib\\\\site-packages\\\\win32\\\\lib',\n",
       " 'C:\\\\Users\\\\HC\\\\anaconda3\\\\Lib\\\\site-packages\\\\Pythonwin']"
      ]
     },
     "execution_count": 35,
     "metadata": {},
     "output_type": "execute_result"
    }
   ],
   "source": [
    "import sys\n",
    "sys.path"
   ]
  }
 ],
 "metadata": {
  "kernelspec": {
   "display_name": "Python 3 (ipykernel)",
   "language": "python",
   "name": "python3"
  },
  "language_info": {
   "codemirror_mode": {
    "name": "ipython",
    "version": 3
   },
   "file_extension": ".py",
   "mimetype": "text/x-python",
   "name": "python",
   "nbconvert_exporter": "python",
   "pygments_lexer": "ipython3",
   "version": "3.11.4"
  }
 },
 "nbformat": 4,
 "nbformat_minor": 5
}
