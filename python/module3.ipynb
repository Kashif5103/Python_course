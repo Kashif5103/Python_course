{
 "cells": [
  {
   "cell_type": "markdown",
   "id": "e711aa73",
   "metadata": {},
   "source": [
    "#  number in python"
   ]
  },
  {
   "cell_type": "code",
   "execution_count": 1,
   "id": "5376b461",
   "metadata": {},
   "outputs": [
    {
     "name": "stdout",
     "output_type": "stream",
     "text": [
      "5 is data type <class 'int'>\n",
      "4.5 is data type <class 'float'>\n",
      "(1+3j) is data type <class 'complex'>\n"
     ]
    }
   ],
   "source": [
    "x=5\n",
    "y=4.5\n",
    "z=1+3j\n",
    "\n",
    "print(x,'is data type',type(x))\n",
    "print(y,'is data type',type(y))\n",
    "print(z,'is data type',type(z))"
   ]
  },
  {
   "cell_type": "markdown",
   "id": "5ae1c546",
   "metadata": {},
   "source": [
    "#  lists"
   ]
  },
  {
   "cell_type": "code",
   "execution_count": 2,
   "id": "4aa3854c",
   "metadata": {},
   "outputs": [
    {
     "name": "stdout",
     "output_type": "stream",
     "text": [
      "<class 'list'>\n"
     ]
    }
   ],
   "source": [
    "mix=[2,3,4,5,'hi']\n",
    "print(type(mix))"
   ]
  },
  {
   "cell_type": "code",
   "execution_count": 3,
   "id": "d9679569",
   "metadata": {},
   "outputs": [
    {
     "name": "stdout",
     "output_type": "stream",
     "text": [
      "2\n",
      "4\n",
      "hi\n",
      "5\n"
     ]
    }
   ],
   "source": [
    "print(mix[0])\n",
    "print(mix[2])\n",
    "print(mix[4])\n",
    "print(mix[3])"
   ]
  },
  {
   "cell_type": "code",
   "execution_count": 4,
   "id": "9f3a0a80",
   "metadata": {},
   "outputs": [
    {
     "name": "stdout",
     "output_type": "stream",
     "text": [
      "[2, 3]\n"
     ]
    }
   ],
   "source": [
    "print(mix[0:2])"
   ]
  },
  {
   "cell_type": "code",
   "execution_count": 5,
   "id": "90bacef7",
   "metadata": {},
   "outputs": [
    {
     "name": "stdout",
     "output_type": "stream",
     "text": [
      "[3]\n"
     ]
    }
   ],
   "source": [
    "print(mix[1:2])"
   ]
  },
  {
   "cell_type": "code",
   "execution_count": 6,
   "id": "43af54a9",
   "metadata": {},
   "outputs": [
    {
     "name": "stdout",
     "output_type": "stream",
     "text": [
      "first_item: 10\n",
      "Second_item: app\n",
      "Third_item: 3\n",
      "Fourth_item: (2+5j)\n"
     ]
    }
   ],
   "source": [
    "# Tuple\n",
    "mix_t=(10,\"app\",3,2+5j)\n",
    "print(\"first_item:\",mix_t[0])\n",
    "print(\"Second_item:\",mix_t[1])\n",
    "print(\"Third_item:\",mix_t[2])\n",
    "print(\"Fourth_item:\",mix_t[3])"
   ]
  },
  {
   "cell_type": "code",
   "execution_count": 8,
   "id": "a542c91a",
   "metadata": {},
   "outputs": [
    {
     "name": "stdout",
     "output_type": "stream",
     "text": [
      "(10, 'app', 3)\n"
     ]
    }
   ],
   "source": [
    "print(mix_t[0:3])"
   ]
  },
  {
   "cell_type": "markdown",
   "id": "bb82047c",
   "metadata": {},
   "source": [
    "String"
   ]
  },
  {
   "cell_type": "code",
   "execution_count": 10,
   "id": "3430aae5",
   "metadata": {},
   "outputs": [
    {
     "data": {
      "text/plain": [
       "'Single line String'"
      ]
     },
     "execution_count": 10,
     "metadata": {},
     "output_type": "execute_result"
    }
   ],
   "source": [
    "str=\"Single line String\"\n",
    "str"
   ]
  },
  {
   "cell_type": "code",
   "execution_count": 13,
   "id": "38548173",
   "metadata": {},
   "outputs": [
    {
     "name": "stdout",
     "output_type": "stream",
     "text": [
      "multiple\n",
      "line \n",
      "string\n"
     ]
    }
   ],
   "source": [
    "str='''multiple\n",
    "line \n",
    "string'''\n",
    "print(str)"
   ]
  },
  {
   "cell_type": "code",
   "execution_count": 15,
   "id": "7ecae0c6",
   "metadata": {},
   "outputs": [
    {
     "name": "stdout",
     "output_type": "stream",
     "text": [
      "first char: H\n",
      "second char: i\n",
      "third char: S\n"
     ]
    }
   ],
   "source": [
    "new_str=\"Hi String\"\n",
    "print(\"first char:\",new_str[0])\n",
    "print(\"second char:\",new_str[1])\n",
    "print(\"third char:\",new_str[3])"
   ]
  },
  {
   "cell_type": "code",
   "execution_count": 18,
   "id": "688e0e7a",
   "metadata": {},
   "outputs": [
    {
     "ename": "TypeError",
     "evalue": "'str' object does not support item assignment",
     "output_type": "error",
     "traceback": [
      "\u001b[1;31m---------------------------------------------------------------------------\u001b[0m",
      "\u001b[1;31mTypeError\u001b[0m                                 Traceback (most recent call last)",
      "Cell \u001b[1;32mIn[18], line 2\u001b[0m\n\u001b[0;32m      1\u001b[0m \u001b[38;5;66;03m# String is immutable\u001b[39;00m\n\u001b[1;32m----> 2\u001b[0m new_str[\u001b[38;5;241m0\u001b[39m]\u001b[38;5;241m=\u001b[39m\u001b[38;5;124m\"\u001b[39m\u001b[38;5;124mp\u001b[39m\u001b[38;5;124m\"\u001b[39m\n",
      "\u001b[1;31mTypeError\u001b[0m: 'str' object does not support item assignment"
     ]
    }
   ],
   "source": [
    "# String is immutable\n",
    "new_str[0]=\"p\""
   ]
  },
  {
   "cell_type": "markdown",
   "id": "c938299d",
   "metadata": {},
   "source": [
    "# Sets in python"
   ]
  },
  {
   "cell_type": "code",
   "execution_count": 20,
   "id": "0db296ef",
   "metadata": {},
   "outputs": [
    {
     "name": "stdout",
     "output_type": "stream",
     "text": [
      "{3, 5, 10, 12, 78}\n",
      "<class 'set'>\n"
     ]
    }
   ],
   "source": [
    "no_set={5,10,12,3,78,10}\n",
    "# set variable in set\n",
    "print(no_set)\n",
    "# check data type\n",
    "print(type(no_set))"
   ]
  },
  {
   "cell_type": "code",
   "execution_count": 22,
   "id": "8734d0da",
   "metadata": {},
   "outputs": [],
   "source": [
    "new_d={1:\"First value\",\"second key\":5}"
   ]
  },
  {
   "cell_type": "code",
   "execution_count": 24,
   "id": "c8ea5b82",
   "metadata": {},
   "outputs": [
    {
     "data": {
      "text/plain": [
       "dict"
      ]
     },
     "execution_count": 24,
     "metadata": {},
     "output_type": "execute_result"
    }
   ],
   "source": [
    "type(new_d)"
   ]
  },
  {
   "cell_type": "code",
   "execution_count": 27,
   "id": "89b2320c",
   "metadata": {},
   "outputs": [
    {
     "name": "stdout",
     "output_type": "stream",
     "text": [
      "{1: 'First value', 'second key': 5}\n"
     ]
    }
   ],
   "source": [
    "print(new_d)"
   ]
  },
  {
   "cell_type": "code",
   "execution_count": 29,
   "id": "887c11f6",
   "metadata": {},
   "outputs": [
    {
     "data": {
      "text/plain": [
       "'First value'"
      ]
     },
     "execution_count": 29,
     "metadata": {},
     "output_type": "execute_result"
    }
   ],
   "source": [
    "new_d[1]"
   ]
  },
  {
   "cell_type": "code",
   "execution_count": 30,
   "id": "9301a2e7",
   "metadata": {},
   "outputs": [
    {
     "data": {
      "text/plain": [
       "5"
      ]
     },
     "execution_count": 30,
     "metadata": {},
     "output_type": "execute_result"
    }
   ],
   "source": [
    "new_d[\"second key\"]"
   ]
  }
 ],
 "metadata": {
  "kernelspec": {
   "display_name": "Python 3 (ipykernel)",
   "language": "python",
   "name": "python3"
  },
  "language_info": {
   "codemirror_mode": {
    "name": "ipython",
    "version": 3
   },
   "file_extension": ".py",
   "mimetype": "text/x-python",
   "name": "python",
   "nbconvert_exporter": "python",
   "pygments_lexer": "ipython3",
   "version": "3.11.4"
  }
 },
 "nbformat": 4,
 "nbformat_minor": 5
}
