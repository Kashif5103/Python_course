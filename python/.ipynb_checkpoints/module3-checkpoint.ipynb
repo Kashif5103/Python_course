{
 "cells": [
  {
   "cell_type": "markdown",
   "id": "e711aa73",
   "metadata": {},
   "source": [
    "#  number in python"
   ]
  },
  {
   "cell_type": "code",
   "execution_count": 3,
   "id": "5376b461",
   "metadata": {},
   "outputs": [
    {
     "name": "stdout",
     "output_type": "stream",
     "text": [
      "5 is data type <class 'int'>\n",
      "4.5 is data type <class 'float'>\n",
      "(1+3j) is data type <class 'complex'>\n"
     ]
    }
   ],
   "source": [
    "x=5\n",
    "y=4.5\n",
    "z=1+3j\n",
    "\n",
    "print(x,'is data type',type(x))\n",
    "print(y,'is data type',type(y))\n",
    "print(z,'is data type',type(z))"
   ]
  },
  {
   "cell_type": "markdown",
   "id": "5ae1c546",
   "metadata": {},
   "source": [
    "#  lists"
   ]
  },
  {
   "cell_type": "code",
   "execution_count": 5,
   "id": "4aa3854c",
   "metadata": {},
   "outputs": [
    {
     "name": "stdout",
     "output_type": "stream",
     "text": [
      "<class 'list'>\n"
     ]
    }
   ],
   "source": [
    "mix=[2,3,4,5,'hi']\n",
    "print(type(mix))"
   ]
  },
  {
   "cell_type": "code",
   "execution_count": 8,
   "id": "d9679569",
   "metadata": {},
   "outputs": [
    {
     "name": "stdout",
     "output_type": "stream",
     "text": [
      "2\n",
      "4\n",
      "hi\n",
      "5\n"
     ]
    }
   ],
   "source": [
    "print(mix[0])\n",
    "print(mix[2])\n",
    "print(mix[4])\n",
    "print(mix[3])"
   ]
  },
  {
   "cell_type": "code",
   "execution_count": 9,
   "id": "9f3a0a80",
   "metadata": {},
   "outputs": [
    {
     "name": "stdout",
     "output_type": "stream",
     "text": [
      "[2, 3]\n"
     ]
    }
   ],
   "source": [
    "print(mix[0:2])"
   ]
  },
  {
   "cell_type": "code",
   "execution_count": 10,
   "id": "90bacef7",
   "metadata": {},
   "outputs": [
    {
     "name": "stdout",
     "output_type": "stream",
     "text": [
      "[3, 4, 5, 'hi']\n"
     ]
    }
   ],
   "source": [
    "print(mix[1:])"
   ]
  },
  {
   "cell_type": "code",
   "execution_count": null,
   "id": "43af54a9",
   "metadata": {},
   "outputs": [],
   "source": []
  }
 ],
 "metadata": {
  "kernelspec": {
   "display_name": "Python 3 (ipykernel)",
   "language": "python",
   "name": "python3"
  },
  "language_info": {
   "codemirror_mode": {
    "name": "ipython",
    "version": 3
   },
   "file_extension": ".py",
   "mimetype": "text/x-python",
   "name": "python",
   "nbconvert_exporter": "python",
   "pygments_lexer": "ipython3",
   "version": "3.11.4"
  }
 },
 "nbformat": 4,
 "nbformat_minor": 5
}
