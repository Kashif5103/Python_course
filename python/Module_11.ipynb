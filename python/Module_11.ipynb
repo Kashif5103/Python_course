{
 "cells": [
  {
   "cell_type": "markdown",
   "id": "30c8f8b9",
   "metadata": {},
   "source": [
    "Dictonary"
   ]
  },
  {
   "cell_type": "markdown",
   "id": "49951426",
   "metadata": {},
   "source": [
    "# Dictonary"
   ]
  },
  {
   "cell_type": "code",
   "execution_count": 2,
   "id": "caaf4aa0",
   "metadata": {},
   "outputs": [
    {
     "name": "stdout",
     "output_type": "stream",
     "text": [
      "{'Brand': 'BMW', 'Model': 'A5', 'year': 2019}\n"
     ]
    }
   ],
   "source": [
    "car={\n",
    "    'Brand':'BMW',\n",
    "    'Model':'A5',\n",
    "    'year':2019\n",
    "}\n",
    "print(car)"
   ]
  },
  {
   "cell_type": "code",
   "execution_count": 3,
   "id": "f5b16bcc",
   "metadata": {},
   "outputs": [
    {
     "data": {
      "text/plain": [
       "dict"
      ]
     },
     "execution_count": 3,
     "metadata": {},
     "output_type": "execute_result"
    }
   ],
   "source": [
    "type(car)"
   ]
  },
  {
   "cell_type": "code",
   "execution_count": 4,
   "id": "14636c43",
   "metadata": {},
   "outputs": [
    {
     "data": {
      "text/plain": [
       "3"
      ]
     },
     "execution_count": 4,
     "metadata": {},
     "output_type": "execute_result"
    }
   ],
   "source": [
    "len(car)"
   ]
  },
  {
   "cell_type": "code",
   "execution_count": 5,
   "id": "f7b0d3ac",
   "metadata": {},
   "outputs": [
    {
     "name": "stdout",
     "output_type": "stream",
     "text": [
      "BMW\n"
     ]
    }
   ],
   "source": [
    "print(car['Brand'])"
   ]
  },
  {
   "cell_type": "code",
   "execution_count": 6,
   "id": "8d5273f9",
   "metadata": {},
   "outputs": [],
   "source": [
    "x=car.get('Brand')"
   ]
  },
  {
   "cell_type": "code",
   "execution_count": 7,
   "id": "efc4eb2a",
   "metadata": {},
   "outputs": [
    {
     "data": {
      "text/plain": [
       "'BMW'"
      ]
     },
     "execution_count": 7,
     "metadata": {},
     "output_type": "execute_result"
    }
   ],
   "source": [
    "x"
   ]
  },
  {
   "cell_type": "code",
   "execution_count": 8,
   "id": "a0df7a08",
   "metadata": {},
   "outputs": [
    {
     "name": "stdout",
     "output_type": "stream",
     "text": [
      "dict_keys(['Brand', 'Model', 'year'])\n"
     ]
    }
   ],
   "source": [
    "x=car.keys()\n",
    "print(x)"
   ]
  },
  {
   "cell_type": "code",
   "execution_count": 10,
   "id": "e5c1cbd0",
   "metadata": {},
   "outputs": [
    {
     "name": "stdout",
     "output_type": "stream",
     "text": [
      "dict_values(['BMW', 'A5', 2019])\n"
     ]
    }
   ],
   "source": [
    "x=car.values()\n",
    "print(x)"
   ]
  },
  {
   "cell_type": "code",
   "execution_count": 11,
   "id": "a2019f2f",
   "metadata": {},
   "outputs": [
    {
     "name": "stdout",
     "output_type": "stream",
     "text": [
      "{'Brand': 'BMW', 'Model': 'A5', 'year': 2019, 'color': 'Red'}\n"
     ]
    }
   ],
   "source": [
    "car['color'] ='Red'\n",
    "print(car)"
   ]
  },
  {
   "cell_type": "code",
   "execution_count": 12,
   "id": "c1404d7b",
   "metadata": {},
   "outputs": [
    {
     "name": "stdout",
     "output_type": "stream",
     "text": [
      "{'Brand': 'BMW', 'Model': 2020, 'year': 2019, 'color': 'Red'}\n"
     ]
    }
   ],
   "source": [
    "car['Model']=2020\n",
    "print(car)"
   ]
  },
  {
   "cell_type": "code",
   "execution_count": 13,
   "id": "821fdcf7",
   "metadata": {},
   "outputs": [],
   "source": [
    "x=car.items()"
   ]
  },
  {
   "cell_type": "code",
   "execution_count": 14,
   "id": "1ecbee91",
   "metadata": {},
   "outputs": [
    {
     "data": {
      "text/plain": [
       "dict_items([('Brand', 'BMW'), ('Model', 2020), ('year', 2019), ('color', 'Red')])"
      ]
     },
     "execution_count": 14,
     "metadata": {},
     "output_type": "execute_result"
    }
   ],
   "source": [
    "x"
   ]
  },
  {
   "cell_type": "code",
   "execution_count": 15,
   "id": "3cf7d931",
   "metadata": {},
   "outputs": [
    {
     "name": "stdout",
     "output_type": "stream",
     "text": [
      "Yes, color is in car\n"
     ]
    }
   ],
   "source": [
    "if 'color' in car:\n",
    "    print('Yes, color is in car')"
   ]
  },
  {
   "cell_type": "code",
   "execution_count": 16,
   "id": "c972c20b",
   "metadata": {},
   "outputs": [
    {
     "name": "stdout",
     "output_type": "stream",
     "text": [
      "{'Brand': 'BMW', 'Model': 2020, 'year': 2019, 'color': 'white'}\n"
     ]
    }
   ],
   "source": [
    "car.update({'color':'white'})\n",
    "print(car)"
   ]
  },
  {
   "cell_type": "code",
   "execution_count": 17,
   "id": "0570e17a",
   "metadata": {},
   "outputs": [
    {
     "name": "stdout",
     "output_type": "stream",
     "text": [
      "{'Brand': 'BMW', 'Model': 2020, 'color': 'white'}\n"
     ]
    }
   ],
   "source": [
    "car.pop('year')\n",
    "print(car)"
   ]
  },
  {
   "cell_type": "code",
   "execution_count": 18,
   "id": "ddca762f",
   "metadata": {},
   "outputs": [
    {
     "data": {
      "text/plain": [
       "('color', 'white')"
      ]
     },
     "execution_count": 18,
     "metadata": {},
     "output_type": "execute_result"
    }
   ],
   "source": [
    "car.popitem()"
   ]
  },
  {
   "cell_type": "code",
   "execution_count": 19,
   "id": "f1aa09a6",
   "metadata": {},
   "outputs": [
    {
     "name": "stdout",
     "output_type": "stream",
     "text": [
      "{'Brand': 'BMW', 'Model': 2020}\n"
     ]
    }
   ],
   "source": [
    "print(car)"
   ]
  },
  {
   "cell_type": "code",
   "execution_count": 20,
   "id": "1d951a0f",
   "metadata": {},
   "outputs": [
    {
     "name": "stdout",
     "output_type": "stream",
     "text": [
      "{'Model': 2020}\n"
     ]
    }
   ],
   "source": [
    "del car['Brand']\n",
    "print(car)"
   ]
  },
  {
   "cell_type": "code",
   "execution_count": 21,
   "id": "ad09a014",
   "metadata": {},
   "outputs": [],
   "source": [
    "car.clear()"
   ]
  },
  {
   "cell_type": "code",
   "execution_count": 22,
   "id": "87173660",
   "metadata": {},
   "outputs": [
    {
     "name": "stdout",
     "output_type": "stream",
     "text": [
      "\n"
     ]
    }
   ],
   "source": [
    "print()"
   ]
  },
  {
   "cell_type": "code",
   "execution_count": 24,
   "id": "6feb7a4f",
   "metadata": {},
   "outputs": [
    {
     "ename": "NameError",
     "evalue": "name 'car' is not defined",
     "output_type": "error",
     "traceback": [
      "\u001b[1;31m---------------------------------------------------------------------------\u001b[0m",
      "\u001b[1;31mNameError\u001b[0m                                 Traceback (most recent call last)",
      "Cell \u001b[1;32mIn[24], line 1\u001b[0m\n\u001b[1;32m----> 1\u001b[0m \u001b[38;5;28;01mdel\u001b[39;00m car\n\u001b[0;32m      2\u001b[0m \u001b[38;5;28mprint\u001b[39m(car)\n",
      "\u001b[1;31mNameError\u001b[0m: name 'car' is not defined"
     ]
    }
   ],
   "source": [
    "del car\n",
    "print(car)"
   ]
  },
  {
   "cell_type": "code",
   "execution_count": null,
   "id": "1f094304",
   "metadata": {},
   "outputs": [],
   "source": []
  }
 ],
 "metadata": {
  "kernelspec": {
   "display_name": "Python 3 (ipykernel)",
   "language": "python",
   "name": "python3"
  },
  "language_info": {
   "codemirror_mode": {
    "name": "ipython",
    "version": 3
   },
   "file_extension": ".py",
   "mimetype": "text/x-python",
   "name": "python",
   "nbconvert_exporter": "python",
   "pygments_lexer": "ipython3",
   "version": "3.11.4"
  }
 },
 "nbformat": 4,
 "nbformat_minor": 5
}
